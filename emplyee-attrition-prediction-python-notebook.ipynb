{
 "cells": [
  {
   "cell_type": "markdown",
   "id": "27190a7c",
   "metadata": {
    "id": "Rn6UIIYcBfNq",
    "papermill": {
     "duration": 0.010165,
     "end_time": "2024-09-11T09:06:03.652140",
     "exception": false,
     "start_time": "2024-09-11T09:06:03.641975",
     "status": "completed"
    },
    "tags": []
   },
   "source": [
    "# **Import Libraries**"
   ]
  },
  {
   "cell_type": "code",
   "execution_count": 1,
   "id": "4d738798",
   "metadata": {
    "execution": {
     "iopub.execute_input": "2024-09-11T09:06:03.673975Z",
     "iopub.status.busy": "2024-09-11T09:06:03.672741Z",
     "iopub.status.idle": "2024-09-11T09:06:04.083874Z",
     "shell.execute_reply": "2024-09-11T09:06:04.082922Z"
    },
    "id": "5LrRmHtC1GBl",
    "papermill": {
     "duration": 0.424768,
     "end_time": "2024-09-11T09:06:04.086578",
     "exception": false,
     "start_time": "2024-09-11T09:06:03.661810",
     "status": "completed"
    },
    "tags": []
   },
   "outputs": [],
   "source": [
    "import numpy as np\n",
    "import pandas as pd\n",
    "import matplotlib.pyplot as plt\n"
   ]
  },
  {
   "cell_type": "markdown",
   "id": "e02dc4d4",
   "metadata": {
    "id": "p4DLdCVlBnQJ",
    "papermill": {
     "duration": 0.009255,
     "end_time": "2024-09-11T09:06:04.105525",
     "exception": false,
     "start_time": "2024-09-11T09:06:04.096270",
     "status": "completed"
    },
    "tags": []
   },
   "source": [
    "## **Load Dataset**"
   ]
  },
  {
   "cell_type": "code",
   "execution_count": 2,
   "id": "8e27a439",
   "metadata": {
    "execution": {
     "iopub.execute_input": "2024-09-11T09:06:04.126294Z",
     "iopub.status.busy": "2024-09-11T09:06:04.125714Z",
     "iopub.status.idle": "2024-09-11T09:06:04.169674Z",
     "shell.execute_reply": "2024-09-11T09:06:04.168538Z"
    },
    "id": "rfQGPo6R3Eez",
    "papermill": {
     "duration": 0.057283,
     "end_time": "2024-09-11T09:06:04.172349",
     "exception": false,
     "start_time": "2024-09-11T09:06:04.115066",
     "status": "completed"
    },
    "tags": []
   },
   "outputs": [],
   "source": [
    "data = pd.read_csv(\"/kaggle/input/employee-attrition-prediction/HR_dataset.csv\")"
   ]
  },
  {
   "cell_type": "code",
   "execution_count": 3,
   "id": "f82b3275",
   "metadata": {
    "execution": {
     "iopub.execute_input": "2024-09-11T09:06:04.195907Z",
     "iopub.status.busy": "2024-09-11T09:06:04.194592Z",
     "iopub.status.idle": "2024-09-11T09:06:04.223372Z",
     "shell.execute_reply": "2024-09-11T09:06:04.222236Z"
    },
    "id": "lJJ50JHf3Rl-",
    "outputId": "f6857676-e842-4d0e-fe65-98ff86f1adae",
    "papermill": {
     "duration": 0.042155,
     "end_time": "2024-09-11T09:06:04.225638",
     "exception": false,
     "start_time": "2024-09-11T09:06:04.183483",
     "status": "completed"
    },
    "tags": []
   },
   "outputs": [
    {
     "data": {
      "text/html": [
       "<div>\n",
       "<style scoped>\n",
       "    .dataframe tbody tr th:only-of-type {\n",
       "        vertical-align: middle;\n",
       "    }\n",
       "\n",
       "    .dataframe tbody tr th {\n",
       "        vertical-align: top;\n",
       "    }\n",
       "\n",
       "    .dataframe thead th {\n",
       "        text-align: right;\n",
       "    }\n",
       "</style>\n",
       "<table border=\"1\" class=\"dataframe\">\n",
       "  <thead>\n",
       "    <tr style=\"text-align: right;\">\n",
       "      <th></th>\n",
       "      <th>satisfaction_level</th>\n",
       "      <th>last_performance_rating</th>\n",
       "      <th>number_of_projects</th>\n",
       "      <th>avg_monthly_hours</th>\n",
       "      <th>years_at_company</th>\n",
       "      <th>had_work_accident</th>\n",
       "      <th>has_left_company</th>\n",
       "      <th>promoted_in_last_5_years</th>\n",
       "      <th>Department</th>\n",
       "      <th>salary_level</th>\n",
       "    </tr>\n",
       "  </thead>\n",
       "  <tbody>\n",
       "    <tr>\n",
       "      <th>0</th>\n",
       "      <td>0.38</td>\n",
       "      <td>0.53</td>\n",
       "      <td>2</td>\n",
       "      <td>157.0</td>\n",
       "      <td>3.0</td>\n",
       "      <td>0</td>\n",
       "      <td>1</td>\n",
       "      <td>0</td>\n",
       "      <td>sales</td>\n",
       "      <td>low</td>\n",
       "    </tr>\n",
       "    <tr>\n",
       "      <th>1</th>\n",
       "      <td>0.80</td>\n",
       "      <td>0.86</td>\n",
       "      <td>5</td>\n",
       "      <td>262.0</td>\n",
       "      <td>6.0</td>\n",
       "      <td>0</td>\n",
       "      <td>1</td>\n",
       "      <td>0</td>\n",
       "      <td>sales</td>\n",
       "      <td>medium</td>\n",
       "    </tr>\n",
       "    <tr>\n",
       "      <th>2</th>\n",
       "      <td>0.11</td>\n",
       "      <td>0.88</td>\n",
       "      <td>7</td>\n",
       "      <td>272.0</td>\n",
       "      <td>4.0</td>\n",
       "      <td>0</td>\n",
       "      <td>1</td>\n",
       "      <td>0</td>\n",
       "      <td>sales</td>\n",
       "      <td>medium</td>\n",
       "    </tr>\n",
       "    <tr>\n",
       "      <th>3</th>\n",
       "      <td>0.72</td>\n",
       "      <td>0.87</td>\n",
       "      <td>5</td>\n",
       "      <td>223.0</td>\n",
       "      <td>5.0</td>\n",
       "      <td>0</td>\n",
       "      <td>1</td>\n",
       "      <td>0</td>\n",
       "      <td>sales</td>\n",
       "      <td>low</td>\n",
       "    </tr>\n",
       "    <tr>\n",
       "      <th>4</th>\n",
       "      <td>0.37</td>\n",
       "      <td>0.52</td>\n",
       "      <td>2</td>\n",
       "      <td>159.0</td>\n",
       "      <td>3.0</td>\n",
       "      <td>0</td>\n",
       "      <td>1</td>\n",
       "      <td>0</td>\n",
       "      <td>sales</td>\n",
       "      <td>low</td>\n",
       "    </tr>\n",
       "  </tbody>\n",
       "</table>\n",
       "</div>"
      ],
      "text/plain": [
       "   satisfaction_level  last_performance_rating  number_of_projects  \\\n",
       "0                0.38                     0.53                   2   \n",
       "1                0.80                     0.86                   5   \n",
       "2                0.11                     0.88                   7   \n",
       "3                0.72                     0.87                   5   \n",
       "4                0.37                     0.52                   2   \n",
       "\n",
       "   avg_monthly_hours  years_at_company  had_work_accident  has_left_company  \\\n",
       "0              157.0               3.0                  0                 1   \n",
       "1              262.0               6.0                  0                 1   \n",
       "2              272.0               4.0                  0                 1   \n",
       "3              223.0               5.0                  0                 1   \n",
       "4              159.0               3.0                  0                 1   \n",
       "\n",
       "   promoted_in_last_5_years Department salary_level  \n",
       "0                         0      sales          low  \n",
       "1                         0      sales       medium  \n",
       "2                         0      sales       medium  \n",
       "3                         0      sales          low  \n",
       "4                         0      sales          low  "
      ]
     },
     "execution_count": 3,
     "metadata": {},
     "output_type": "execute_result"
    }
   ],
   "source": [
    "data.head(5)"
   ]
  },
  {
   "cell_type": "code",
   "execution_count": 4,
   "id": "c43fe799",
   "metadata": {
    "execution": {
     "iopub.execute_input": "2024-09-11T09:06:04.247155Z",
     "iopub.status.busy": "2024-09-11T09:06:04.246696Z",
     "iopub.status.idle": "2024-09-11T09:06:04.261567Z",
     "shell.execute_reply": "2024-09-11T09:06:04.260511Z"
    },
    "id": "xP1Rw8fX4Bde",
    "outputId": "ffc91363-d173-428e-f505-72761a55e36c",
    "papermill": {
     "duration": 0.027931,
     "end_time": "2024-09-11T09:06:04.263704",
     "exception": false,
     "start_time": "2024-09-11T09:06:04.235773",
     "status": "completed"
    },
    "tags": []
   },
   "outputs": [
    {
     "data": {
      "text/html": [
       "<div>\n",
       "<style scoped>\n",
       "    .dataframe tbody tr th:only-of-type {\n",
       "        vertical-align: middle;\n",
       "    }\n",
       "\n",
       "    .dataframe tbody tr th {\n",
       "        vertical-align: top;\n",
       "    }\n",
       "\n",
       "    .dataframe thead th {\n",
       "        text-align: right;\n",
       "    }\n",
       "</style>\n",
       "<table border=\"1\" class=\"dataframe\">\n",
       "  <thead>\n",
       "    <tr style=\"text-align: right;\">\n",
       "      <th></th>\n",
       "      <th>satisfaction_level</th>\n",
       "      <th>last_performance_rating</th>\n",
       "      <th>number_of_projects</th>\n",
       "      <th>avg_monthly_hours</th>\n",
       "      <th>years_at_company</th>\n",
       "      <th>had_work_accident</th>\n",
       "      <th>has_left_company</th>\n",
       "      <th>promoted_in_last_5_years</th>\n",
       "      <th>Department</th>\n",
       "      <th>salary_level</th>\n",
       "    </tr>\n",
       "  </thead>\n",
       "  <tbody>\n",
       "    <tr>\n",
       "      <th>14996</th>\n",
       "      <td>0.37</td>\n",
       "      <td>0.53</td>\n",
       "      <td>2</td>\n",
       "      <td>143.0</td>\n",
       "      <td>3.0</td>\n",
       "      <td>0</td>\n",
       "      <td>1</td>\n",
       "      <td>0</td>\n",
       "      <td>support</td>\n",
       "      <td>low</td>\n",
       "    </tr>\n",
       "    <tr>\n",
       "      <th>14997</th>\n",
       "      <td>0.11</td>\n",
       "      <td>0.96</td>\n",
       "      <td>6</td>\n",
       "      <td>280.0</td>\n",
       "      <td>4.0</td>\n",
       "      <td>0</td>\n",
       "      <td>1</td>\n",
       "      <td>0</td>\n",
       "      <td>support</td>\n",
       "      <td>low</td>\n",
       "    </tr>\n",
       "    <tr>\n",
       "      <th>14998</th>\n",
       "      <td>0.37</td>\n",
       "      <td>0.52</td>\n",
       "      <td>2</td>\n",
       "      <td>158.0</td>\n",
       "      <td>3.0</td>\n",
       "      <td>0</td>\n",
       "      <td>1</td>\n",
       "      <td>0</td>\n",
       "      <td>support</td>\n",
       "      <td>low</td>\n",
       "    </tr>\n",
       "  </tbody>\n",
       "</table>\n",
       "</div>"
      ],
      "text/plain": [
       "       satisfaction_level  last_performance_rating  number_of_projects  \\\n",
       "14996                0.37                     0.53                   2   \n",
       "14997                0.11                     0.96                   6   \n",
       "14998                0.37                     0.52                   2   \n",
       "\n",
       "       avg_monthly_hours  years_at_company  had_work_accident  \\\n",
       "14996              143.0               3.0                  0   \n",
       "14997              280.0               4.0                  0   \n",
       "14998              158.0               3.0                  0   \n",
       "\n",
       "       has_left_company  promoted_in_last_5_years Department salary_level  \n",
       "14996                 1                         0    support          low  \n",
       "14997                 1                         0    support          low  \n",
       "14998                 1                         0    support          low  "
      ]
     },
     "execution_count": 4,
     "metadata": {},
     "output_type": "execute_result"
    }
   ],
   "source": [
    "data.tail(3)"
   ]
  },
  {
   "cell_type": "code",
   "execution_count": 5,
   "id": "3ac36261",
   "metadata": {
    "execution": {
     "iopub.execute_input": "2024-09-11T09:06:04.285565Z",
     "iopub.status.busy": "2024-09-11T09:06:04.285162Z",
     "iopub.status.idle": "2024-09-11T09:06:04.310676Z",
     "shell.execute_reply": "2024-09-11T09:06:04.309553Z"
    },
    "id": "Ai398e2p4HdK",
    "outputId": "6d8b890c-7232-4464-dbd3-524ffcaa5efd",
    "papermill": {
     "duration": 0.039945,
     "end_time": "2024-09-11T09:06:04.313573",
     "exception": false,
     "start_time": "2024-09-11T09:06:04.273628",
     "status": "completed"
    },
    "tags": []
   },
   "outputs": [
    {
     "name": "stdout",
     "output_type": "stream",
     "text": [
      "<class 'pandas.core.frame.DataFrame'>\n",
      "RangeIndex: 14999 entries, 0 to 14998\n",
      "Data columns (total 10 columns):\n",
      " #   Column                    Non-Null Count  Dtype  \n",
      "---  ------                    --------------  -----  \n",
      " 0   satisfaction_level        14028 non-null  float64\n",
      " 1   last_performance_rating   14661 non-null  float64\n",
      " 2   number_of_projects        14999 non-null  int64  \n",
      " 3   avg_monthly_hours         14757 non-null  float64\n",
      " 4   years_at_company          14650 non-null  float64\n",
      " 5   had_work_accident         14999 non-null  int64  \n",
      " 6   has_left_company          14999 non-null  int64  \n",
      " 7   promoted_in_last_5_years  14999 non-null  int64  \n",
      " 8   Department                14999 non-null  object \n",
      " 9   salary_level              14999 non-null  object \n",
      "dtypes: float64(4), int64(4), object(2)\n",
      "memory usage: 1.1+ MB\n"
     ]
    }
   ],
   "source": [
    "data.info()"
   ]
  },
  {
   "cell_type": "code",
   "execution_count": 6,
   "id": "bfd2629b",
   "metadata": {
    "execution": {
     "iopub.execute_input": "2024-09-11T09:06:04.335424Z",
     "iopub.status.busy": "2024-09-11T09:06:04.335035Z",
     "iopub.status.idle": "2024-09-11T09:06:04.371914Z",
     "shell.execute_reply": "2024-09-11T09:06:04.370766Z"
    },
    "id": "0X_KX2xh4SNw",
    "outputId": "59588b72-3a3c-47c3-b591-56d291deb7d5",
    "papermill": {
     "duration": 0.050597,
     "end_time": "2024-09-11T09:06:04.374311",
     "exception": false,
     "start_time": "2024-09-11T09:06:04.323714",
     "status": "completed"
    },
    "tags": []
   },
   "outputs": [
    {
     "data": {
      "text/html": [
       "<div>\n",
       "<style scoped>\n",
       "    .dataframe tbody tr th:only-of-type {\n",
       "        vertical-align: middle;\n",
       "    }\n",
       "\n",
       "    .dataframe tbody tr th {\n",
       "        vertical-align: top;\n",
       "    }\n",
       "\n",
       "    .dataframe thead th {\n",
       "        text-align: right;\n",
       "    }\n",
       "</style>\n",
       "<table border=\"1\" class=\"dataframe\">\n",
       "  <thead>\n",
       "    <tr style=\"text-align: right;\">\n",
       "      <th></th>\n",
       "      <th>satisfaction_level</th>\n",
       "      <th>last_performance_rating</th>\n",
       "      <th>number_of_projects</th>\n",
       "      <th>avg_monthly_hours</th>\n",
       "      <th>years_at_company</th>\n",
       "      <th>had_work_accident</th>\n",
       "      <th>has_left_company</th>\n",
       "      <th>promoted_in_last_5_years</th>\n",
       "    </tr>\n",
       "  </thead>\n",
       "  <tbody>\n",
       "    <tr>\n",
       "      <th>count</th>\n",
       "      <td>14028.000000</td>\n",
       "      <td>14661.000000</td>\n",
       "      <td>14999.000000</td>\n",
       "      <td>14757.000000</td>\n",
       "      <td>14650.000000</td>\n",
       "      <td>14999.000000</td>\n",
       "      <td>14999.000000</td>\n",
       "      <td>14999.000000</td>\n",
       "    </tr>\n",
       "    <tr>\n",
       "      <th>mean</th>\n",
       "      <td>0.608705</td>\n",
       "      <td>0.715844</td>\n",
       "      <td>3.803054</td>\n",
       "      <td>201.080572</td>\n",
       "      <td>3.506621</td>\n",
       "      <td>0.144610</td>\n",
       "      <td>0.238083</td>\n",
       "      <td>0.021268</td>\n",
       "    </tr>\n",
       "    <tr>\n",
       "      <th>std</th>\n",
       "      <td>0.249662</td>\n",
       "      <td>0.171177</td>\n",
       "      <td>1.232592</td>\n",
       "      <td>49.994942</td>\n",
       "      <td>1.467696</td>\n",
       "      <td>0.351719</td>\n",
       "      <td>0.425924</td>\n",
       "      <td>0.144281</td>\n",
       "    </tr>\n",
       "    <tr>\n",
       "      <th>min</th>\n",
       "      <td>0.090000</td>\n",
       "      <td>0.360000</td>\n",
       "      <td>2.000000</td>\n",
       "      <td>96.000000</td>\n",
       "      <td>2.000000</td>\n",
       "      <td>0.000000</td>\n",
       "      <td>0.000000</td>\n",
       "      <td>0.000000</td>\n",
       "    </tr>\n",
       "    <tr>\n",
       "      <th>25%</th>\n",
       "      <td>0.430000</td>\n",
       "      <td>0.560000</td>\n",
       "      <td>3.000000</td>\n",
       "      <td>156.000000</td>\n",
       "      <td>3.000000</td>\n",
       "      <td>0.000000</td>\n",
       "      <td>0.000000</td>\n",
       "      <td>0.000000</td>\n",
       "    </tr>\n",
       "    <tr>\n",
       "      <th>50%</th>\n",
       "      <td>0.640000</td>\n",
       "      <td>0.720000</td>\n",
       "      <td>4.000000</td>\n",
       "      <td>200.000000</td>\n",
       "      <td>3.000000</td>\n",
       "      <td>0.000000</td>\n",
       "      <td>0.000000</td>\n",
       "      <td>0.000000</td>\n",
       "    </tr>\n",
       "    <tr>\n",
       "      <th>75%</th>\n",
       "      <td>0.810000</td>\n",
       "      <td>0.870000</td>\n",
       "      <td>5.000000</td>\n",
       "      <td>245.000000</td>\n",
       "      <td>4.000000</td>\n",
       "      <td>0.000000</td>\n",
       "      <td>0.000000</td>\n",
       "      <td>0.000000</td>\n",
       "    </tr>\n",
       "    <tr>\n",
       "      <th>max</th>\n",
       "      <td>1.000000</td>\n",
       "      <td>1.000000</td>\n",
       "      <td>7.000000</td>\n",
       "      <td>310.000000</td>\n",
       "      <td>10.000000</td>\n",
       "      <td>1.000000</td>\n",
       "      <td>1.000000</td>\n",
       "      <td>1.000000</td>\n",
       "    </tr>\n",
       "  </tbody>\n",
       "</table>\n",
       "</div>"
      ],
      "text/plain": [
       "       satisfaction_level  last_performance_rating  number_of_projects  \\\n",
       "count        14028.000000             14661.000000        14999.000000   \n",
       "mean             0.608705                 0.715844            3.803054   \n",
       "std              0.249662                 0.171177            1.232592   \n",
       "min              0.090000                 0.360000            2.000000   \n",
       "25%              0.430000                 0.560000            3.000000   \n",
       "50%              0.640000                 0.720000            4.000000   \n",
       "75%              0.810000                 0.870000            5.000000   \n",
       "max              1.000000                 1.000000            7.000000   \n",
       "\n",
       "       avg_monthly_hours  years_at_company  had_work_accident  \\\n",
       "count       14757.000000      14650.000000       14999.000000   \n",
       "mean          201.080572          3.506621           0.144610   \n",
       "std            49.994942          1.467696           0.351719   \n",
       "min            96.000000          2.000000           0.000000   \n",
       "25%           156.000000          3.000000           0.000000   \n",
       "50%           200.000000          3.000000           0.000000   \n",
       "75%           245.000000          4.000000           0.000000   \n",
       "max           310.000000         10.000000           1.000000   \n",
       "\n",
       "       has_left_company  promoted_in_last_5_years  \n",
       "count      14999.000000              14999.000000  \n",
       "mean           0.238083                  0.021268  \n",
       "std            0.425924                  0.144281  \n",
       "min            0.000000                  0.000000  \n",
       "25%            0.000000                  0.000000  \n",
       "50%            0.000000                  0.000000  \n",
       "75%            0.000000                  0.000000  \n",
       "max            1.000000                  1.000000  "
      ]
     },
     "execution_count": 6,
     "metadata": {},
     "output_type": "execute_result"
    }
   ],
   "source": [
    "data.describe()"
   ]
  },
  {
   "cell_type": "code",
   "execution_count": 7,
   "id": "e93bae42",
   "metadata": {
    "execution": {
     "iopub.execute_input": "2024-09-11T09:06:04.397020Z",
     "iopub.status.busy": "2024-09-11T09:06:04.396575Z",
     "iopub.status.idle": "2024-09-11T09:06:04.403529Z",
     "shell.execute_reply": "2024-09-11T09:06:04.402383Z"
    },
    "id": "Y2yV2V3O7snq",
    "outputId": "666e5054-149b-4937-fca1-ac63bbd3f7b4",
    "papermill": {
     "duration": 0.021057,
     "end_time": "2024-09-11T09:06:04.405802",
     "exception": false,
     "start_time": "2024-09-11T09:06:04.384745",
     "status": "completed"
    },
    "tags": []
   },
   "outputs": [
    {
     "data": {
      "text/plain": [
       "(14999, 10)"
      ]
     },
     "execution_count": 7,
     "metadata": {},
     "output_type": "execute_result"
    }
   ],
   "source": [
    "data.shape"
   ]
  },
  {
   "cell_type": "code",
   "execution_count": 8,
   "id": "3ae33a7a",
   "metadata": {
    "execution": {
     "iopub.execute_input": "2024-09-11T09:06:04.428818Z",
     "iopub.status.busy": "2024-09-11T09:06:04.428399Z",
     "iopub.status.idle": "2024-09-11T09:06:04.439228Z",
     "shell.execute_reply": "2024-09-11T09:06:04.438046Z"
    },
    "id": "gqobvgP94c1o",
    "outputId": "d6fd0279-7db3-494e-9262-757905ae77eb",
    "papermill": {
     "duration": 0.024736,
     "end_time": "2024-09-11T09:06:04.441479",
     "exception": false,
     "start_time": "2024-09-11T09:06:04.416743",
     "status": "completed"
    },
    "tags": []
   },
   "outputs": [
    {
     "data": {
      "text/plain": [
       "satisfaction_level          14028\n",
       "last_performance_rating     14661\n",
       "number_of_projects          14999\n",
       "avg_monthly_hours           14757\n",
       "years_at_company            14650\n",
       "had_work_accident           14999\n",
       "has_left_company            14999\n",
       "promoted_in_last_5_years    14999\n",
       "Department                  14999\n",
       "salary_level                14999\n",
       "dtype: int64"
      ]
     },
     "execution_count": 8,
     "metadata": {},
     "output_type": "execute_result"
    }
   ],
   "source": [
    "data.count()"
   ]
  },
  {
   "cell_type": "code",
   "execution_count": 9,
   "id": "a3f77571",
   "metadata": {
    "execution": {
     "iopub.execute_input": "2024-09-11T09:06:04.464295Z",
     "iopub.status.busy": "2024-09-11T09:06:04.463867Z",
     "iopub.status.idle": "2024-09-11T09:06:04.752833Z",
     "shell.execute_reply": "2024-09-11T09:06:04.751555Z"
    },
    "id": "BZGHmd4sfF-h",
    "outputId": "27d6894a-a3ac-446d-a5fb-82c0a74336ab",
    "papermill": {
     "duration": 0.303345,
     "end_time": "2024-09-11T09:06:04.755438",
     "exception": false,
     "start_time": "2024-09-11T09:06:04.452093",
     "status": "completed"
    },
    "tags": []
   },
   "outputs": [
    {
     "data": {
      "image/png": "[encoded data removed]",
      "text/plain": [
       "<Figure size 640x480 with 1 Axes>"
      ]
     },
     "metadata": {},
     "output_type": "display_data"
    }
   ],
   "source": [
    "plt.hist(data['years_at_company'], bins=30)\n",
    "plt.xlabel('years_at_company')\n",
    "plt.ylabel('Frequency')\n",
    "plt.title('Histogram of years_at_company')\n",
    "plt.show()"
   ]
  },
  {
   "cell_type": "markdown",
   "id": "6099186e",
   "metadata": {
    "id": "eCon3SM_B7To",
    "papermill": {
     "duration": 0.011164,
     "end_time": "2024-09-11T09:06:04.777664",
     "exception": false,
     "start_time": "2024-09-11T09:06:04.766500",
     "status": "completed"
    },
    "tags": []
   },
   "source": [
    "# **EDA**"
   ]
  },
  {
   "cell_type": "markdown",
   "id": "c2744e19",
   "metadata": {
    "papermill": {
     "duration": 0.010541,
     "end_time": "2024-09-11T09:06:04.799202",
     "exception": false,
     "start_time": "2024-09-11T09:06:04.788661",
     "status": "completed"
    },
    "tags": []
   },
   "source": [
    "# **Check Duplicates and Remove duplicates**"
   ]
  },
  {
   "cell_type": "code",
   "execution_count": 10,
   "id": "7704ad7a",
   "metadata": {
    "execution": {
     "iopub.execute_input": "2024-09-11T09:06:04.823001Z",
     "iopub.status.busy": "2024-09-11T09:06:04.822519Z",
     "iopub.status.idle": "2024-09-11T09:06:04.834385Z",
     "shell.execute_reply": "2024-09-11T09:06:04.833256Z"
    },
    "id": "JlKsfGyr5LUe",
    "outputId": "16180c3b-3e82-4ab5-81ba-8098ec158956",
    "papermill": {
     "duration": 0.026556,
     "end_time": "2024-09-11T09:06:04.836823",
     "exception": false,
     "start_time": "2024-09-11T09:06:04.810267",
     "status": "completed"
    },
    "tags": []
   },
   "outputs": [
    {
     "name": "stdout",
     "output_type": "stream",
     "text": [
      "2473\n"
     ]
    }
   ],
   "source": [
    "duplicate=data.duplicated()\n",
    "print(duplicate.sum())"
   ]
  },
  {
   "cell_type": "code",
   "execution_count": 11,
   "id": "b8253879",
   "metadata": {
    "execution": {
     "iopub.execute_input": "2024-09-11T09:06:04.860365Z",
     "iopub.status.busy": "2024-09-11T09:06:04.859964Z",
     "iopub.status.idle": "2024-09-11T09:06:04.873917Z",
     "shell.execute_reply": "2024-09-11T09:06:04.872765Z"
    },
    "id": "2195pakr7coa",
    "papermill": {
     "duration": 0.028778,
     "end_time": "2024-09-11T09:06:04.876693",
     "exception": false,
     "start_time": "2024-09-11T09:06:04.847915",
     "status": "completed"
    },
    "tags": []
   },
   "outputs": [],
   "source": [
    "data.drop_duplicates(inplace=True)"
   ]
  },
  {
   "cell_type": "code",
   "execution_count": 12,
   "id": "90f43677",
   "metadata": {
    "execution": {
     "iopub.execute_input": "2024-09-11T09:06:04.900632Z",
     "iopub.status.busy": "2024-09-11T09:06:04.900203Z",
     "iopub.status.idle": "2024-09-11T09:06:04.914223Z",
     "shell.execute_reply": "2024-09-11T09:06:04.912788Z"
    },
    "id": "Jrqn9VFz73gI",
    "outputId": "1ce79d4f-b43a-497a-f23a-7e4fbf514c98",
    "papermill": {
     "duration": 0.02887,
     "end_time": "2024-09-11T09:06:04.916773",
     "exception": false,
     "start_time": "2024-09-11T09:06:04.887903",
     "status": "completed"
    },
    "tags": []
   },
   "outputs": [
    {
     "name": "stdout",
     "output_type": "stream",
     "text": [
      "<class 'pandas.core.frame.DataFrame'>\n",
      "Index: 12526 entries, 0 to 14986\n",
      "Data columns (total 10 columns):\n",
      " #   Column                    Non-Null Count  Dtype  \n",
      "---  ------                    --------------  -----  \n",
      " 0   satisfaction_level        11555 non-null  float64\n",
      " 1   last_performance_rating   12188 non-null  float64\n",
      " 2   number_of_projects        12526 non-null  int64  \n",
      " 3   avg_monthly_hours         12284 non-null  float64\n",
      " 4   years_at_company          12177 non-null  float64\n",
      " 5   had_work_accident         12526 non-null  int64  \n",
      " 6   has_left_company          12526 non-null  int64  \n",
      " 7   promoted_in_last_5_years  12526 non-null  int64  \n",
      " 8   Department                12526 non-null  object \n",
      " 9   salary_level              12526 non-null  object \n",
      "dtypes: float64(4), int64(4), object(2)\n",
      "memory usage: 1.1+ MB\n"
     ]
    }
   ],
   "source": [
    "data.info()"
   ]
  },
  {
   "cell_type": "markdown",
   "id": "8a6bb63a",
   "metadata": {
    "id": "dR9aqAE4CEWM",
    "papermill": {
     "duration": 0.011067,
     "end_time": "2024-09-11T09:06:04.939704",
     "exception": false,
     "start_time": "2024-09-11T09:06:04.928637",
     "status": "completed"
    },
    "tags": []
   },
   "source": [
    "# **Check and Fill Null values**"
   ]
  },
  {
   "cell_type": "code",
   "execution_count": 13,
   "id": "7d91bc61",
   "metadata": {
    "execution": {
     "iopub.execute_input": "2024-09-11T09:06:04.963899Z",
     "iopub.status.busy": "2024-09-11T09:06:04.963467Z",
     "iopub.status.idle": "2024-09-11T09:06:04.974506Z",
     "shell.execute_reply": "2024-09-11T09:06:04.973480Z"
    },
    "id": "0yjjQ8DD-_R8",
    "outputId": "062befd0-69b4-4097-e512-d956d72f4e74",
    "papermill": {
     "duration": 0.025914,
     "end_time": "2024-09-11T09:06:04.976911",
     "exception": false,
     "start_time": "2024-09-11T09:06:04.950997",
     "status": "completed"
    },
    "tags": []
   },
   "outputs": [
    {
     "data": {
      "text/plain": [
       "satisfaction_level          971\n",
       "last_performance_rating     338\n",
       "number_of_projects            0\n",
       "avg_monthly_hours           242\n",
       "years_at_company            349\n",
       "had_work_accident             0\n",
       "has_left_company              0\n",
       "promoted_in_last_5_years      0\n",
       "Department                    0\n",
       "salary_level                  0\n",
       "dtype: int64"
      ]
     },
     "execution_count": 13,
     "metadata": {},
     "output_type": "execute_result"
    }
   ],
   "source": [
    "data.isnull().sum()"
   ]
  },
  {
   "cell_type": "code",
   "execution_count": 14,
   "id": "f504c9b7",
   "metadata": {
    "execution": {
     "iopub.execute_input": "2024-09-11T09:06:05.001414Z",
     "iopub.status.busy": "2024-09-11T09:06:05.000991Z",
     "iopub.status.idle": "2024-09-11T09:06:05.008778Z",
     "shell.execute_reply": "2024-09-11T09:06:05.007449Z"
    },
    "id": "yiBFNakYmYqI",
    "papermill": {
     "duration": 0.023432,
     "end_time": "2024-09-11T09:06:05.011818",
     "exception": false,
     "start_time": "2024-09-11T09:06:04.988386",
     "status": "completed"
    },
    "tags": []
   },
   "outputs": [],
   "source": [
    "med = np.nanmedian(data['avg_monthly_hours'])\n",
    "data['avg_monthly_hours'] = data['avg_monthly_hours'].fillna(med)\n"
   ]
  },
  {
   "cell_type": "code",
   "execution_count": 15,
   "id": "ecd7c901",
   "metadata": {
    "execution": {
     "iopub.execute_input": "2024-09-11T09:06:05.037870Z",
     "iopub.status.busy": "2024-09-11T09:06:05.036546Z",
     "iopub.status.idle": "2024-09-11T09:06:05.043677Z",
     "shell.execute_reply": "2024-09-11T09:06:05.042583Z"
    },
    "id": "wVkq1EXH80PW",
    "papermill": {
     "duration": 0.022794,
     "end_time": "2024-09-11T09:06:05.046133",
     "exception": false,
     "start_time": "2024-09-11T09:06:05.023339",
     "status": "completed"
    },
    "tags": []
   },
   "outputs": [],
   "source": [
    "med = np.nanmedian(data['satisfaction_level'])\n",
    "data['satisfaction_level'] = data['satisfaction_level'].fillna(med)"
   ]
  },
  {
   "cell_type": "code",
   "execution_count": 16,
   "id": "6288fcbc",
   "metadata": {
    "execution": {
     "iopub.execute_input": "2024-09-11T09:06:05.070801Z",
     "iopub.status.busy": "2024-09-11T09:06:05.069774Z",
     "iopub.status.idle": "2024-09-11T09:06:05.076361Z",
     "shell.execute_reply": "2024-09-11T09:06:05.075308Z"
    },
    "id": "tzVCGg5UoqNU",
    "papermill": {
     "duration": 0.021613,
     "end_time": "2024-09-11T09:06:05.078939",
     "exception": false,
     "start_time": "2024-09-11T09:06:05.057326",
     "status": "completed"
    },
    "tags": []
   },
   "outputs": [],
   "source": [
    "# Calculate the median of the 'number_of_projects' column\n",
    "med = np.nanmedian(data['number_of_projects'])\n",
    "\n",
    "# Fill NaN values with the median and assign it back to the DataFrame\n",
    "data['number_of_projects'] = data['number_of_projects'].fillna(med)\n"
   ]
  },
  {
   "cell_type": "code",
   "execution_count": 17,
   "id": "7c19454e",
   "metadata": {
    "execution": {
     "iopub.execute_input": "2024-09-11T09:06:05.103356Z",
     "iopub.status.busy": "2024-09-11T09:06:05.102568Z",
     "iopub.status.idle": "2024-09-11T09:06:05.109654Z",
     "shell.execute_reply": "2024-09-11T09:06:05.108628Z"
    },
    "id": "UQp51C2aox97",
    "papermill": {
     "duration": 0.0218,
     "end_time": "2024-09-11T09:06:05.111972",
     "exception": false,
     "start_time": "2024-09-11T09:06:05.090172",
     "status": "completed"
    },
    "tags": []
   },
   "outputs": [],
   "source": [
    "# Calculate the median of the 'years_at_company' column\n",
    "med = np.nanmedian(data['years_at_company'])\n",
    "\n",
    "# Fill NaN values with the median\n",
    "data['years_at_company'] = data['years_at_company'].fillna(med)"
   ]
  },
  {
   "cell_type": "code",
   "execution_count": 18,
   "id": "bb790921",
   "metadata": {
    "execution": {
     "iopub.execute_input": "2024-09-11T09:06:05.137223Z",
     "iopub.status.busy": "2024-09-11T09:06:05.135756Z",
     "iopub.status.idle": "2024-09-11T09:06:05.142587Z",
     "shell.execute_reply": "2024-09-11T09:06:05.141575Z"
    },
    "id": "WM8yNJYkpSOE",
    "papermill": {
     "duration": 0.021743,
     "end_time": "2024-09-11T09:06:05.144979",
     "exception": false,
     "start_time": "2024-09-11T09:06:05.123236",
     "status": "completed"
    },
    "tags": []
   },
   "outputs": [],
   "source": [
    "# Calculate the median of the 'last_performance_rating' column\n",
    "med = np.nanmedian(data['last_performance_rating'])\n",
    "\n",
    "# Fill NaN values with the median\n",
    "data['last_performance_rating'] = data['last_performance_rating'].fillna(med)"
   ]
  },
  {
   "cell_type": "code",
   "execution_count": 19,
   "id": "56ad864e",
   "metadata": {
    "execution": {
     "iopub.execute_input": "2024-09-11T09:06:05.169739Z",
     "iopub.status.busy": "2024-09-11T09:06:05.168687Z",
     "iopub.status.idle": "2024-09-11T09:06:05.179764Z",
     "shell.execute_reply": "2024-09-11T09:06:05.178706Z"
    },
    "id": "yreM3GQX4kWF",
    "outputId": "348e5dc2-83b6-45a6-85d7-1f3a5321a368",
    "papermill": {
     "duration": 0.025763,
     "end_time": "2024-09-11T09:06:05.181959",
     "exception": false,
     "start_time": "2024-09-11T09:06:05.156196",
     "status": "completed"
    },
    "tags": []
   },
   "outputs": [
    {
     "data": {
      "text/plain": [
       "satisfaction_level          0\n",
       "last_performance_rating     0\n",
       "number_of_projects          0\n",
       "avg_monthly_hours           0\n",
       "years_at_company            0\n",
       "had_work_accident           0\n",
       "has_left_company            0\n",
       "promoted_in_last_5_years    0\n",
       "Department                  0\n",
       "salary_level                0\n",
       "dtype: int64"
      ]
     },
     "execution_count": 19,
     "metadata": {},
     "output_type": "execute_result"
    }
   ],
   "source": [
    "data.isnull().sum()"
   ]
  },
  {
   "cell_type": "markdown",
   "id": "b3962d84",
   "metadata": {
    "id": "MsMdhrO6CLSh",
    "papermill": {
     "duration": 0.010898,
     "end_time": "2024-09-11T09:06:05.204382",
     "exception": false,
     "start_time": "2024-09-11T09:06:05.193484",
     "status": "completed"
    },
    "tags": []
   },
   "source": [
    "# **Convert Non-numeric features to Numeric**"
   ]
  },
  {
   "cell_type": "code",
   "execution_count": 20,
   "id": "2d291c8d",
   "metadata": {
    "execution": {
     "iopub.execute_input": "2024-09-11T09:06:05.228671Z",
     "iopub.status.busy": "2024-09-11T09:06:05.228272Z",
     "iopub.status.idle": "2024-09-11T09:06:05.238552Z",
     "shell.execute_reply": "2024-09-11T09:06:05.237583Z"
    },
    "id": "WK0liJDOKraq",
    "papermill": {
     "duration": 0.025231,
     "end_time": "2024-09-11T09:06:05.240910",
     "exception": false,
     "start_time": "2024-09-11T09:06:05.215679",
     "status": "completed"
    },
    "tags": []
   },
   "outputs": [],
   "source": [
    "# Encoding categorical features if they are not already encoded\n",
    "data['Department'] = data['Department'].map({'product_mng':9, 'RandD':8, 'marketing':7, 'IT':6,\n",
    "                                             'management':5, 'accounting':4, 'hr':3,\n",
    "                                             'technical':2, 'support':1, 'sales':0})\n",
    "\n",
    "data['salary_level'] = data['salary_level'].map({'high':2, 'medium':1, 'low':0})\n"
   ]
  },
  {
   "cell_type": "code",
   "execution_count": 21,
   "id": "5b8ac6b6",
   "metadata": {
    "execution": {
     "iopub.execute_input": "2024-09-11T09:06:05.265650Z",
     "iopub.status.busy": "2024-09-11T09:06:05.265249Z",
     "iopub.status.idle": "2024-09-11T09:06:05.280427Z",
     "shell.execute_reply": "2024-09-11T09:06:05.279406Z"
    },
    "id": "nS5JvAn8LmbV",
    "outputId": "1ae81776-1a1d-41b8-f995-1fe0332a3ffb",
    "papermill": {
     "duration": 0.030514,
     "end_time": "2024-09-11T09:06:05.282992",
     "exception": false,
     "start_time": "2024-09-11T09:06:05.252478",
     "status": "completed"
    },
    "tags": []
   },
   "outputs": [
    {
     "name": "stdout",
     "output_type": "stream",
     "text": [
      "has_left_company            1.000000\n",
      "years_at_company            0.179085\n",
      "avg_monthly_hours           0.068868\n",
      "number_of_projects          0.030070\n",
      "last_performance_rating     0.013266\n",
      "Department                 -0.023345\n",
      "promoted_in_last_5_years   -0.047018\n",
      "salary_level               -0.118230\n",
      "had_work_accident          -0.125781\n",
      "satisfaction_level         -0.360202\n",
      "Name: has_left_company, dtype: float64\n"
     ]
    }
   ],
   "source": [
    "# Select only numeric columns from the dataset\n",
    "numeric_data = data.select_dtypes(include=['float64', 'int64'])\n",
    "\n",
    "# Calculate the correlation matrix\n",
    "correlation_matrix = numeric_data.corr()\n",
    "\n",
    "# Display the correlation of the target feature with other features\n",
    "print(correlation_matrix['has_left_company'].sort_values(ascending=False))\n"
   ]
  },
  {
   "cell_type": "code",
   "execution_count": 22,
   "id": "04bb5cc1",
   "metadata": {
    "execution": {
     "iopub.execute_input": "2024-09-11T09:06:05.307493Z",
     "iopub.status.busy": "2024-09-11T09:06:05.307077Z",
     "iopub.status.idle": "2024-09-11T09:06:05.315935Z",
     "shell.execute_reply": "2024-09-11T09:06:05.314683Z"
    },
    "id": "-H-ER4rfAuAb",
    "outputId": "689dbef1-e6c4-4c8f-be8e-87d84ca90049",
    "papermill": {
     "duration": 0.023866,
     "end_time": "2024-09-11T09:06:05.318155",
     "exception": false,
     "start_time": "2024-09-11T09:06:05.294289",
     "status": "completed"
    },
    "tags": []
   },
   "outputs": [
    {
     "data": {
      "text/plain": [
       "satisfaction_level          float64\n",
       "last_performance_rating     float64\n",
       "number_of_projects            int64\n",
       "avg_monthly_hours           float64\n",
       "years_at_company            float64\n",
       "had_work_accident             int64\n",
       "has_left_company              int64\n",
       "promoted_in_last_5_years      int64\n",
       "Department                    int64\n",
       "salary_level                  int64\n",
       "dtype: object"
      ]
     },
     "execution_count": 22,
     "metadata": {},
     "output_type": "execute_result"
    }
   ],
   "source": [
    "data.dtypes"
   ]
  },
  {
   "cell_type": "code",
   "execution_count": 23,
   "id": "4b4a0482",
   "metadata": {
    "execution": {
     "iopub.execute_input": "2024-09-11T09:06:05.342817Z",
     "iopub.status.busy": "2024-09-11T09:06:05.342389Z",
     "iopub.status.idle": "2024-09-11T09:06:05.358834Z",
     "shell.execute_reply": "2024-09-11T09:06:05.357781Z"
    },
    "id": "rC_17V9Bqsry",
    "outputId": "db0d5b47-3ef0-4359-fdcf-acc7c3874b40",
    "papermill": {
     "duration": 0.031343,
     "end_time": "2024-09-11T09:06:05.361009",
     "exception": false,
     "start_time": "2024-09-11T09:06:05.329666",
     "status": "completed"
    },
    "tags": []
   },
   "outputs": [
    {
     "data": {
      "text/html": [
       "<div>\n",
       "<style scoped>\n",
       "    .dataframe tbody tr th:only-of-type {\n",
       "        vertical-align: middle;\n",
       "    }\n",
       "\n",
       "    .dataframe tbody tr th {\n",
       "        vertical-align: top;\n",
       "    }\n",
       "\n",
       "    .dataframe thead th {\n",
       "        text-align: right;\n",
       "    }\n",
       "</style>\n",
       "<table border=\"1\" class=\"dataframe\">\n",
       "  <thead>\n",
       "    <tr style=\"text-align: right;\">\n",
       "      <th></th>\n",
       "      <th>satisfaction_level</th>\n",
       "      <th>last_performance_rating</th>\n",
       "      <th>number_of_projects</th>\n",
       "      <th>avg_monthly_hours</th>\n",
       "      <th>years_at_company</th>\n",
       "      <th>had_work_accident</th>\n",
       "      <th>has_left_company</th>\n",
       "      <th>promoted_in_last_5_years</th>\n",
       "      <th>Department</th>\n",
       "      <th>salary_level</th>\n",
       "    </tr>\n",
       "  </thead>\n",
       "  <tbody>\n",
       "    <tr>\n",
       "      <th>0</th>\n",
       "      <td>0.38</td>\n",
       "      <td>0.53</td>\n",
       "      <td>2</td>\n",
       "      <td>157.0</td>\n",
       "      <td>3.0</td>\n",
       "      <td>0</td>\n",
       "      <td>1</td>\n",
       "      <td>0</td>\n",
       "      <td>0</td>\n",
       "      <td>0</td>\n",
       "    </tr>\n",
       "    <tr>\n",
       "      <th>1</th>\n",
       "      <td>0.80</td>\n",
       "      <td>0.86</td>\n",
       "      <td>5</td>\n",
       "      <td>262.0</td>\n",
       "      <td>6.0</td>\n",
       "      <td>0</td>\n",
       "      <td>1</td>\n",
       "      <td>0</td>\n",
       "      <td>0</td>\n",
       "      <td>1</td>\n",
       "    </tr>\n",
       "    <tr>\n",
       "      <th>2</th>\n",
       "      <td>0.11</td>\n",
       "      <td>0.88</td>\n",
       "      <td>7</td>\n",
       "      <td>272.0</td>\n",
       "      <td>4.0</td>\n",
       "      <td>0</td>\n",
       "      <td>1</td>\n",
       "      <td>0</td>\n",
       "      <td>0</td>\n",
       "      <td>1</td>\n",
       "    </tr>\n",
       "    <tr>\n",
       "      <th>3</th>\n",
       "      <td>0.72</td>\n",
       "      <td>0.87</td>\n",
       "      <td>5</td>\n",
       "      <td>223.0</td>\n",
       "      <td>5.0</td>\n",
       "      <td>0</td>\n",
       "      <td>1</td>\n",
       "      <td>0</td>\n",
       "      <td>0</td>\n",
       "      <td>0</td>\n",
       "    </tr>\n",
       "    <tr>\n",
       "      <th>4</th>\n",
       "      <td>0.37</td>\n",
       "      <td>0.52</td>\n",
       "      <td>2</td>\n",
       "      <td>159.0</td>\n",
       "      <td>3.0</td>\n",
       "      <td>0</td>\n",
       "      <td>1</td>\n",
       "      <td>0</td>\n",
       "      <td>0</td>\n",
       "      <td>0</td>\n",
       "    </tr>\n",
       "  </tbody>\n",
       "</table>\n",
       "</div>"
      ],
      "text/plain": [
       "   satisfaction_level  last_performance_rating  number_of_projects  \\\n",
       "0                0.38                     0.53                   2   \n",
       "1                0.80                     0.86                   5   \n",
       "2                0.11                     0.88                   7   \n",
       "3                0.72                     0.87                   5   \n",
       "4                0.37                     0.52                   2   \n",
       "\n",
       "   avg_monthly_hours  years_at_company  had_work_accident  has_left_company  \\\n",
       "0              157.0               3.0                  0                 1   \n",
       "1              262.0               6.0                  0                 1   \n",
       "2              272.0               4.0                  0                 1   \n",
       "3              223.0               5.0                  0                 1   \n",
       "4              159.0               3.0                  0                 1   \n",
       "\n",
       "   promoted_in_last_5_years  Department  salary_level  \n",
       "0                         0           0             0  \n",
       "1                         0           0             1  \n",
       "2                         0           0             1  \n",
       "3                         0           0             0  \n",
       "4                         0           0             0  "
      ]
     },
     "execution_count": 23,
     "metadata": {},
     "output_type": "execute_result"
    }
   ],
   "source": [
    "data.head(5)"
   ]
  },
  {
   "cell_type": "code",
   "execution_count": 24,
   "id": "9a427248",
   "metadata": {
    "execution": {
     "iopub.execute_input": "2024-09-11T09:06:05.387282Z",
     "iopub.status.busy": "2024-09-11T09:06:05.386871Z",
     "iopub.status.idle": "2024-09-11T09:06:05.668291Z",
     "shell.execute_reply": "2024-09-11T09:06:05.667120Z"
    },
    "id": "Gnzr7t4n1Ewb",
    "outputId": "48e216e7-0c1a-406e-d1dd-42d32b1a84e8",
    "papermill": {
     "duration": 0.297485,
     "end_time": "2024-09-11T09:06:05.670871",
     "exception": false,
     "start_time": "2024-09-11T09:06:05.373386",
     "status": "completed"
    },
    "tags": []
   },
   "outputs": [
    {
     "data": {
      "image/png": "[encoded data removed]",
      "text/plain": [
       "<Figure size 600x400 with 1 Axes>"
      ]
     },
     "metadata": {},
     "output_type": "display_data"
    }
   ],
   "source": [
    "plt.figure(figsize=(6, 4))  # Set figure size\n",
    "plt.boxplot([data['satisfaction_level'],data['last_performance_rating'],data['number_of_projects'],data['years_at_company'],data['promoted_in_last_5_years'],data['salary_level']])\n",
    "# Customize the plot\n",
    "plt.title('Box Plot of Satisfaction Level')  # Set the title\n",
    "plt.xticks([1,2,3,4,5,6], ['Satisfaction Level', 'last_performance_rating','number_of_projects','years_at_company','promoted', 'salary_level'] ,rotation=65)\n",
    "plt.xlabel('Features')\n",
    "plt.ylabel('Values')\n",
    "#plt.tight_layout()  # Adjust the layout to prevent overlap\n",
    "plt.show()"
   ]
  },
  {
   "cell_type": "markdown",
   "id": "2acc340d",
   "metadata": {
    "id": "NwJdAuA8CZuB",
    "papermill": {
     "duration": 0.012329,
     "end_time": "2024-09-11T09:06:05.697230",
     "exception": false,
     "start_time": "2024-09-11T09:06:05.684901",
     "status": "completed"
    },
    "tags": []
   },
   "source": [
    "# **Remove Outlier**"
   ]
  },
  {
   "cell_type": "code",
   "execution_count": 25,
   "id": "18860b63",
   "metadata": {
    "execution": {
     "iopub.execute_input": "2024-09-11T09:06:05.724818Z",
     "iopub.status.busy": "2024-09-11T09:06:05.723840Z",
     "iopub.status.idle": "2024-09-11T09:06:05.734007Z",
     "shell.execute_reply": "2024-09-11T09:06:05.732986Z"
    },
    "id": "O3y0shRVwPLG",
    "papermill": {
     "duration": 0.026604,
     "end_time": "2024-09-11T09:06:05.736298",
     "exception": false,
     "start_time": "2024-09-11T09:06:05.709694",
     "status": "completed"
    },
    "tags": []
   },
   "outputs": [],
   "source": [
    "# Calculate Q1, Q3, and IQR\n",
    "Q1 = data['years_at_company'].quantile(0.25)\n",
    "Q3 = data['years_at_company'].quantile(0.75)\n",
    "IQR = Q3 - Q1\n",
    "\n",
    "# Identify outliers\n",
    "outliers = (data['years_at_company'] < (Q1 - 1.5 * IQR)) | (data['years_at_company'] > (Q3 + 1.5 * IQR))\n",
    "\n",
    "# Remove outliers\n",
    "data = data[~outliers]"
   ]
  },
  {
   "cell_type": "code",
   "execution_count": 26,
   "id": "1a19736a",
   "metadata": {
    "execution": {
     "iopub.execute_input": "2024-09-11T09:06:05.763736Z",
     "iopub.status.busy": "2024-09-11T09:06:05.763317Z",
     "iopub.status.idle": "2024-09-11T09:06:06.012381Z",
     "shell.execute_reply": "2024-09-11T09:06:06.011346Z"
    },
    "id": "w3TympVSyvnq",
    "outputId": "27838fd1-421c-459c-93a2-5dfc2981d211",
    "papermill": {
     "duration": 0.265653,
     "end_time": "2024-09-11T09:06:06.015040",
     "exception": false,
     "start_time": "2024-09-11T09:06:05.749387",
     "status": "completed"
    },
    "tags": []
   },
   "outputs": [
    {
     "data": {
      "image/png": "[encoded data removed]",
      "text/plain": [
       "<Figure size 600x400 with 1 Axes>"
      ]
     },
     "metadata": {},
     "output_type": "display_data"
    }
   ],
   "source": [
    "plt.figure(figsize=(6, 4))  # Set figure size\n",
    "plt.boxplot([data['satisfaction_level'],data['last_performance_rating'],data['number_of_projects'],data['years_at_company'],data['promoted_in_last_5_years'],data['salary_level']])\n",
    "# Customize the plot\n",
    "plt.title('Box Plot of Satisfaction Level')  # Set the title\n",
    "plt.xticks([1,2,3,4,5,6], ['Satisfaction Level', 'last_performance_rating','number_of_projects','years_at_company','promoted', 'salary_level'] ,rotation=65)\n",
    "plt.xlabel('Features')\n",
    "plt.ylabel('Values')\n",
    "#plt.tight_layout()  # Adjust the layout to prevent overlap\n",
    "plt.show()"
   ]
  },
  {
   "cell_type": "code",
   "execution_count": 27,
   "id": "34a84bb8",
   "metadata": {
    "execution": {
     "iopub.execute_input": "2024-09-11T09:06:06.043336Z",
     "iopub.status.busy": "2024-09-11T09:06:06.042915Z",
     "iopub.status.idle": "2024-09-11T09:06:06.055356Z",
     "shell.execute_reply": "2024-09-11T09:06:06.053704Z"
    },
    "id": "g364jwwTRHEG",
    "outputId": "36afb185-1524-4522-c4ca-d68c861f66dd",
    "papermill": {
     "duration": 0.029539,
     "end_time": "2024-09-11T09:06:06.057661",
     "exception": false,
     "start_time": "2024-09-11T09:06:06.028122",
     "status": "completed"
    },
    "tags": []
   },
   "outputs": [
    {
     "name": "stdout",
     "output_type": "stream",
     "text": [
      "<class 'pandas.core.frame.DataFrame'>\n",
      "Index: 11686 entries, 0 to 14985\n",
      "Data columns (total 10 columns):\n",
      " #   Column                    Non-Null Count  Dtype  \n",
      "---  ------                    --------------  -----  \n",
      " 0   satisfaction_level        11686 non-null  float64\n",
      " 1   last_performance_rating   11686 non-null  float64\n",
      " 2   number_of_projects        11686 non-null  int64  \n",
      " 3   avg_monthly_hours         11686 non-null  float64\n",
      " 4   years_at_company          11686 non-null  float64\n",
      " 5   had_work_accident         11686 non-null  int64  \n",
      " 6   has_left_company          11686 non-null  int64  \n",
      " 7   promoted_in_last_5_years  11686 non-null  int64  \n",
      " 8   Department                11686 non-null  int64  \n",
      " 9   salary_level              11686 non-null  int64  \n",
      "dtypes: float64(4), int64(6)\n",
      "memory usage: 1004.3 KB\n"
     ]
    }
   ],
   "source": [
    "data.info()"
   ]
  },
  {
   "cell_type": "markdown",
   "id": "89b4a64d",
   "metadata": {
    "id": "7GDqhfQ0CfYa",
    "papermill": {
     "duration": 0.012934,
     "end_time": "2024-09-11T09:06:06.084068",
     "exception": false,
     "start_time": "2024-09-11T09:06:06.071134",
     "status": "completed"
    },
    "tags": []
   },
   "source": [
    "# **Train Model**"
   ]
  },
  {
   "cell_type": "code",
   "execution_count": 28,
   "id": "0642e387",
   "metadata": {
    "execution": {
     "iopub.execute_input": "2024-09-11T09:06:06.113147Z",
     "iopub.status.busy": "2024-09-11T09:06:06.112080Z",
     "iopub.status.idle": "2024-09-11T09:06:07.572899Z",
     "shell.execute_reply": "2024-09-11T09:06:07.571813Z"
    },
    "id": "XuIBD9lxSoUR",
    "papermill": {
     "duration": 1.478341,
     "end_time": "2024-09-11T09:06:07.575653",
     "exception": false,
     "start_time": "2024-09-11T09:06:06.097312",
     "status": "completed"
    },
    "tags": []
   },
   "outputs": [],
   "source": [
    "from sklearn.model_selection import train_test_split"
   ]
  },
  {
   "cell_type": "code",
   "execution_count": 29,
   "id": "ac768044",
   "metadata": {
    "execution": {
     "iopub.execute_input": "2024-09-11T09:06:07.604752Z",
     "iopub.status.busy": "2024-09-11T09:06:07.603667Z",
     "iopub.status.idle": "2024-09-11T09:06:07.617972Z",
     "shell.execute_reply": "2024-09-11T09:06:07.616885Z"
    },
    "id": "t_YP20E1StNH",
    "outputId": "96964909-4086-4bdc-ac57-a03442d9bea7",
    "papermill": {
     "duration": 0.031363,
     "end_time": "2024-09-11T09:06:07.620350",
     "exception": false,
     "start_time": "2024-09-11T09:06:07.588987",
     "status": "completed"
    },
    "tags": []
   },
   "outputs": [
    {
     "name": "stdout",
     "output_type": "stream",
     "text": [
      "X_train shape: (9348, 9)\n",
      "X_test shape: (2338, 9)\n",
      "y_train shape: (9348,)\n",
      "y_test shape: (2338,)\n"
     ]
    }
   ],
   "source": [
    "X = data.drop('has_left_company', axis=1)  # Features (remove target)\n",
    "y = data['has_left_company']  # Target feature\n",
    "\n",
    "X_train, X_test, y_train, y_test = train_test_split(X, y, test_size=0.2, random_state=42)\n",
    "\n",
    "# Print the shapes of the resulting datasets\n",
    "print(\"X_train shape:\", X_train.shape)\n",
    "print(\"X_test shape:\", X_test.shape)\n",
    "print(\"y_train shape:\", y_train.shape)\n",
    "print(\"y_test shape:\", y_test.shape)"
   ]
  },
  {
   "cell_type": "code",
   "execution_count": 30,
   "id": "4f93feff",
   "metadata": {
    "execution": {
     "iopub.execute_input": "2024-09-11T09:06:07.648532Z",
     "iopub.status.busy": "2024-09-11T09:06:07.648107Z",
     "iopub.status.idle": "2024-09-11T09:06:07.662057Z",
     "shell.execute_reply": "2024-09-11T09:06:07.661020Z"
    },
    "id": "VPGLyHc0ZmRJ",
    "papermill": {
     "duration": 0.030842,
     "end_time": "2024-09-11T09:06:07.664441",
     "exception": false,
     "start_time": "2024-09-11T09:06:07.633599",
     "status": "completed"
    },
    "tags": []
   },
   "outputs": [],
   "source": [
    "from sklearn.preprocessing import StandardScaler\n",
    "\n",
    "scaler = StandardScaler()\n",
    "X_train_scaled = scaler.fit_transform(X_train)\n",
    "X_test_scaled = scaler.transform(X_test)\n"
   ]
  },
  {
   "cell_type": "code",
   "execution_count": 31,
   "id": "7d2356ff",
   "metadata": {
    "execution": {
     "iopub.execute_input": "2024-09-11T09:06:07.693620Z",
     "iopub.status.busy": "2024-09-11T09:06:07.692923Z",
     "iopub.status.idle": "2024-09-11T09:06:07.946044Z",
     "shell.execute_reply": "2024-09-11T09:06:07.945049Z"
    },
    "id": "2Zk8ZpJgenz5",
    "papermill": {
     "duration": 0.27086,
     "end_time": "2024-09-11T09:06:07.948696",
     "exception": false,
     "start_time": "2024-09-11T09:06:07.677836",
     "status": "completed"
    },
    "tags": []
   },
   "outputs": [],
   "source": [
    "from sklearn.model_selection import train_test_split\n",
    "from sklearn.preprocessing import StandardScaler\n",
    "from sklearn.metrics import confusion_matrix, classification_report\n",
    "from sklearn.tree import DecisionTreeClassifier\n",
    "from sklearn.ensemble import RandomForestClassifier"
   ]
  },
  {
   "cell_type": "code",
   "execution_count": 32,
   "id": "7aecc205",
   "metadata": {
    "execution": {
     "iopub.execute_input": "2024-09-11T09:06:07.977818Z",
     "iopub.status.busy": "2024-09-11T09:06:07.976908Z",
     "iopub.status.idle": "2024-09-11T09:06:08.037123Z",
     "shell.execute_reply": "2024-09-11T09:06:08.035877Z"
    },
    "id": "E060avUNbsCy",
    "outputId": "06d9999a-256d-48b2-b4e4-86bf84c4ff3e",
    "papermill": {
     "duration": 0.077182,
     "end_time": "2024-09-11T09:06:08.039636",
     "exception": false,
     "start_time": "2024-09-11T09:06:07.962454",
     "status": "completed"
    },
    "tags": []
   },
   "outputs": [
    {
     "name": "stdout",
     "output_type": "stream",
     "text": [
      "Decision Tree Classifier:\n",
      "Confusion Matrix:\n",
      " [[1899   33]\n",
      " [  31  375]]\n",
      "\n",
      "Classification Report:\n",
      "               precision    recall  f1-score   support\n",
      "\n",
      "           0       0.98      0.98      0.98      1932\n",
      "           1       0.92      0.92      0.92       406\n",
      "\n",
      "    accuracy                           0.97      2338\n",
      "   macro avg       0.95      0.95      0.95      2338\n",
      "weighted avg       0.97      0.97      0.97      2338\n",
      "\n"
     ]
    }
   ],
   "source": [
    "# Initialize and train the model\n",
    "decision_tree = DecisionTreeClassifier()\n",
    "decision_tree.fit(X_train, y_train)\n",
    "\n",
    "# Make predictions\n",
    "y_pred_decision_tree = decision_tree.predict(X_test)\n",
    "\n",
    "# Evaluate the model\n",
    "print(\"Decision Tree Classifier:\")\n",
    "print(\"Confusion Matrix:\\n\", confusion_matrix(y_test, y_pred_decision_tree))\n",
    "print(\"\\nClassification Report:\\n\", classification_report(y_test, y_pred_decision_tree))\n"
   ]
  },
  {
   "cell_type": "code",
   "execution_count": 33,
   "id": "ea82d897",
   "metadata": {
    "execution": {
     "iopub.execute_input": "2024-09-11T09:06:08.120007Z",
     "iopub.status.busy": "2024-09-11T09:06:08.119258Z",
     "iopub.status.idle": "2024-09-11T09:06:09.168318Z",
     "shell.execute_reply": "2024-09-11T09:06:09.167239Z"
    },
    "id": "A0NfKneHe_Vu",
    "outputId": "addc9a80-d69c-469c-c507-a1db4be24f8c",
    "papermill": {
     "duration": 1.117566,
     "end_time": "2024-09-11T09:06:09.170565",
     "exception": false,
     "start_time": "2024-09-11T09:06:08.052999",
     "status": "completed"
    },
    "tags": []
   },
   "outputs": [
    {
     "name": "stdout",
     "output_type": "stream",
     "text": [
      "Random Forest Classifier:\n",
      "Confusion Matrix:\n",
      " [[1928    4]\n",
      " [  29  377]]\n",
      "\n",
      "Classification Report:\n",
      "               precision    recall  f1-score   support\n",
      "\n",
      "           0       0.99      1.00      0.99      1932\n",
      "           1       0.99      0.93      0.96       406\n",
      "\n",
      "    accuracy                           0.99      2338\n",
      "   macro avg       0.99      0.96      0.97      2338\n",
      "weighted avg       0.99      0.99      0.99      2338\n",
      "\n"
     ]
    }
   ],
   "source": [
    "# Initialize and train the model\n",
    "random_forest = RandomForestClassifier()\n",
    "random_forest.fit(X_train, y_train)\n",
    "\n",
    "# Make predictions\n",
    "y_pred_random_forest = random_forest.predict(X_test)\n",
    "\n",
    "# Evaluate the model\n",
    "print(\"Random Forest Classifier:\")\n",
    "print(\"Confusion Matrix:\\n\", confusion_matrix(y_test, y_pred_random_forest))\n",
    "print(\"\\nClassification Report:\\n\", classification_report(y_test, y_pred_random_forest))\n"
   ]
  },
  {
   "cell_type": "code",
   "execution_count": 34,
   "id": "e0c877fc",
   "metadata": {
    "execution": {
     "iopub.execute_input": "2024-09-11T09:06:09.202012Z",
     "iopub.status.busy": "2024-09-11T09:06:09.201417Z",
     "iopub.status.idle": "2024-09-11T09:06:10.217553Z",
     "shell.execute_reply": "2024-09-11T09:06:10.216506Z"
    },
    "id": "Ox72f5LQhFzf",
    "outputId": "a3c2399f-b598-45e3-d19d-9cb14114f174",
    "papermill": {
     "duration": 1.035759,
     "end_time": "2024-09-11T09:06:10.219886",
     "exception": false,
     "start_time": "2024-09-11T09:06:09.184127",
     "status": "completed"
    },
    "tags": []
   },
   "outputs": [
    {
     "data": {
      "text/html": [
       "<style>#sk-container-id-1 {color: black;background-color: white;}#sk-container-id-1 pre{padding: 0;}#sk-container-id-1 div.sk-toggleable {background-color: white;}#sk-container-id-1 label.sk-toggleable__label {cursor: pointer;display: block;width: 100%;margin-bottom: 0;padding: 0.3em;box-sizing: border-box;text-align: center;}#sk-container-id-1 label.sk-toggleable__label-arrow:before {content: \"▸\";float: left;margin-right: 0.25em;color: #696969;}#sk-container-id-1 label.sk-toggleable__label-arrow:hover:before {color: black;}#sk-container-id-1 div.sk-estimator:hover label.sk-toggleable__label-arrow:before {color: black;}#sk-container-id-1 div.sk-toggleable__content {max-height: 0;max-width: 0;overflow: hidden;text-align: left;background-color: #f0f8ff;}#sk-container-id-1 div.sk-toggleable__content pre {margin: 0.2em;color: black;border-radius: 0.25em;background-color: #f0f8ff;}#sk-container-id-1 input.sk-toggleable__control:checked~div.sk-toggleable__content {max-height: 200px;max-width: 100%;overflow: auto;}#sk-container-id-1 input.sk-toggleable__control:checked~label.sk-toggleable__label-arrow:before {content: \"▾\";}#sk-container-id-1 div.sk-estimator input.sk-toggleable__control:checked~label.sk-toggleable__label {background-color: #d4ebff;}#sk-container-id-1 div.sk-label input.sk-toggleable__control:checked~label.sk-toggleable__label {background-color: #d4ebff;}#sk-container-id-1 input.sk-hidden--visually {border: 0;clip: rect(1px 1px 1px 1px);clip: rect(1px, 1px, 1px, 1px);height: 1px;margin: -1px;overflow: hidden;padding: 0;position: absolute;width: 1px;}#sk-container-id-1 div.sk-estimator {font-family: monospace;background-color: #f0f8ff;border: 1px dotted black;border-radius: 0.25em;box-sizing: border-box;margin-bottom: 0.5em;}#sk-container-id-1 div.sk-estimator:hover {background-color: #d4ebff;}#sk-container-id-1 div.sk-parallel-item::after {content: \"\";width: 100%;border-bottom: 1px solid gray;flex-grow: 1;}#sk-container-id-1 div.sk-label:hover label.sk-toggleable__label {background-color: #d4ebff;}#sk-container-id-1 div.sk-serial::before {content: \"\";position: absolute;border-left: 1px solid gray;box-sizing: border-box;top: 0;bottom: 0;left: 50%;z-index: 0;}#sk-container-id-1 div.sk-serial {display: flex;flex-direction: column;align-items: center;background-color: white;padding-right: 0.2em;padding-left: 0.2em;position: relative;}#sk-container-id-1 div.sk-item {position: relative;z-index: 1;}#sk-container-id-1 div.sk-parallel {display: flex;align-items: stretch;justify-content: center;background-color: white;position: relative;}#sk-container-id-1 div.sk-item::before, #sk-container-id-1 div.sk-parallel-item::before {content: \"\";position: absolute;border-left: 1px solid gray;box-sizing: border-box;top: 0;bottom: 0;left: 50%;z-index: -1;}#sk-container-id-1 div.sk-parallel-item {display: flex;flex-direction: column;z-index: 1;position: relative;background-color: white;}#sk-container-id-1 div.sk-parallel-item:first-child::after {align-self: flex-end;width: 50%;}#sk-container-id-1 div.sk-parallel-item:last-child::after {align-self: flex-start;width: 50%;}#sk-container-id-1 div.sk-parallel-item:only-child::after {width: 0;}#sk-container-id-1 div.sk-dashed-wrapped {border: 1px dashed gray;margin: 0 0.4em 0.5em 0.4em;box-sizing: border-box;padding-bottom: 0.4em;background-color: white;}#sk-container-id-1 div.sk-label label {font-family: monospace;font-weight: bold;display: inline-block;line-height: 1.2em;}#sk-container-id-1 div.sk-label-container {text-align: center;}#sk-container-id-1 div.sk-container {/* jupyter's `normalize.less` sets `[hidden] { display: none; }` but bootstrap.min.css set `[hidden] { display: none !important; }` so we also need the `!important` here to be able to override the default hidden behavior on the sphinx rendered scikit-learn.org. See: https://github.com/scikit-learn/scikit-learn/issues/21755 */display: inline-block !important;position: relative;}#sk-container-id-1 div.sk-text-repr-fallback {display: none;}</style><div id=\"sk-container-id-1\" class=\"sk-top-container\"><div class=\"sk-text-repr-fallback\"><pre>RandomForestClassifier()</pre><b>In a Jupyter environment, please rerun this cell to show the HTML representation or trust the notebook. <br />On GitHub, the HTML representation is unable to render, please try loading this page with nbviewer.org.</b></div><div class=\"sk-container\" hidden><div class=\"sk-item\"><div class=\"sk-estimator sk-toggleable\"><input class=\"sk-toggleable__control sk-hidden--visually\" id=\"sk-estimator-id-1\" type=\"checkbox\" checked><label for=\"sk-estimator-id-1\" class=\"sk-toggleable__label sk-toggleable__label-arrow\">RandomForestClassifier</label><div class=\"sk-toggleable__content\"><pre>RandomForestClassifier()</pre></div></div></div></div></div>"
      ],
      "text/plain": [
       "RandomForestClassifier()"
      ]
     },
     "execution_count": 34,
     "metadata": {},
     "output_type": "execute_result"
    }
   ],
   "source": [
    "from sklearn.ensemble import RandomForestClassifier\n",
    "\n",
    "# Initialize the model\n",
    "model = RandomForestClassifier()\n",
    "\n",
    "# Train the model\n",
    "model.fit(X_train, y_train)\n"
   ]
  },
  {
   "cell_type": "code",
   "execution_count": 35,
   "id": "af26400f",
   "metadata": {
    "execution": {
     "iopub.execute_input": "2024-09-11T09:06:10.249919Z",
     "iopub.status.busy": "2024-09-11T09:06:10.249034Z",
     "iopub.status.idle": "2024-09-11T09:06:10.315163Z",
     "shell.execute_reply": "2024-09-11T09:06:10.314091Z"
    },
    "id": "TJMMnOFimgl_",
    "outputId": "6e783c0f-db9a-43b9-bca6-319ee6c2b04b",
    "papermill": {
     "duration": 0.083528,
     "end_time": "2024-09-11T09:06:10.317451",
     "exception": false,
     "start_time": "2024-09-11T09:06:10.233923",
     "status": "completed"
    },
    "tags": []
   },
   "outputs": [
    {
     "data": {
      "text/plain": [
       "['model.pkl']"
      ]
     },
     "execution_count": 35,
     "metadata": {},
     "output_type": "execute_result"
    }
   ],
   "source": [
    "import joblib\n",
    "\n",
    "# Save the trained model\n",
    "joblib.dump(model, 'model.pkl')\n"
   ]
  },
  {
   "cell_type": "code",
   "execution_count": 36,
   "id": "7e423ac6",
   "metadata": {
    "execution": {
     "iopub.execute_input": "2024-09-11T09:06:10.347320Z",
     "iopub.status.busy": "2024-09-11T09:06:10.346541Z",
     "iopub.status.idle": "2024-09-11T09:06:10.397624Z",
     "shell.execute_reply": "2024-09-11T09:06:10.396452Z"
    },
    "id": "-swnw6gspPEj",
    "papermill": {
     "duration": 0.06902,
     "end_time": "2024-09-11T09:06:10.400389",
     "exception": false,
     "start_time": "2024-09-11T09:06:10.331369",
     "status": "completed"
    },
    "tags": []
   },
   "outputs": [],
   "source": [
    "# Load the trained model\n",
    "model = joblib.load('model.pkl')\n"
   ]
  }
 ],
 "metadata": {
  "colab": {
   "provenance": []
  },
  "kaggle": {
   "accelerator": "none",
   "dataSources": [
    {
     "datasetId": 5678531,
     "sourceId": 9364629,
     "sourceType": "datasetVersion"
    }
   ],
   "dockerImageVersionId": 30761,
   "isGpuEnabled": false,
   "isInternetEnabled": true,
   "language": "python",
   "sourceType": "notebook"
  },
  "kernelspec": {
   "display_name": "Python 3",
   "language": "python",
   "name": "python3"
  },
  "language_info": {
   "codemirror_mode": {
    "name": "ipython",
    "version": 3
   },
   "file_extension": ".py",
   "mimetype": "text/x-python",
   "name": "python",
   "nbconvert_exporter": "python",
   "pygments_lexer": "ipython3",
   "version": "3.10.14"
  },
  "papermill": {
   "default_parameters": {},
   "duration": 10.109858,
   "end_time": "2024-09-11T09:06:11.035262",
   "environment_variables": {},
   "exception": null,
   "input_path": "__notebook__.ipynb",
   "output_path": "__notebook__.ipynb",
   "parameters": {},
   "start_time": "2024-09-11T09:06:00.925404",
   "version": "2.6.0"
  }
 },
 "nbformat": 4,
 "nbformat_minor": 5
}
